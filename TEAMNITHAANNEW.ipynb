{
 "cells": [
  {
   "cell_type": "code",
   "execution_count": 1,
   "metadata": {
    "collapsed": true
   },
   "outputs": [],
   "source": [
    "import numpy as np\n",
    "import matplotlib.pyplot as plt"
   ]
  },
  {
   "cell_type": "code",
   "execution_count": 2,
   "metadata": {
    "collapsed": true
   },
   "outputs": [],
   "source": [
    "data = np.load('img_data.npz')['a']"
   ]
  },
  {
   "cell_type": "code",
   "execution_count": 3,
   "metadata": {},
   "outputs": [
    {
     "data": {
      "image/png": "[encoded data removed]",
      "text/plain": [
       "<matplotlib.figure.Figure at 0x7f935c039518>"
      ]
     },
     "metadata": {},
     "output_type": "display_data"
    }
   ],
   "source": [
    "plt.imshow(data[0][0], cmap = 'Greys')\n",
    "plt.show()"
   ]
  },
  {
   "cell_type": "code",
   "execution_count": 4,
   "metadata": {},
   "outputs": [
    {
     "name": "stderr",
     "output_type": "stream",
     "text": [
      "/home/ec2-user/anaconda3/lib/python3.6/site-packages/h5py/__init__.py:34: FutureWarning: Conversion of the second argument of issubdtype from `float` to `np.floating` is deprecated. In future, it will be treated as `np.float64 == np.dtype(float).type`.\n",
      "  from ._conv import register_converters as _register_converters\n",
      "Using TensorFlow backend.\n"
     ]
    }
   ],
   "source": [
    "from keras.layers import Input, Conv2D, Lambda, merge, Dense, Flatten,MaxPooling2D, Dropout, Activation\n",
    "from keras.models import Model, Sequential\n",
    "from keras.regularizers import l2\n",
    "from keras import backend as K\n",
    "from keras.optimizers import SGD,Adam\n",
    "from keras.losses import binary_crossentropy\n",
    "import numpy.random as rng\n",
    "import numpy as np\n",
    "import os\n",
    "import matplotlib.pyplot as plt\n",
    "from sklearn.utils import shuffle\n",
    "from collections import defaultdict"
   ]
  },
  {
   "cell_type": "code",
   "execution_count": 5,
   "metadata": {},
   "outputs": [
    {
     "data": {
      "text/plain": [
       "3842021"
      ]
     },
     "execution_count": 5,
     "metadata": {},
     "output_type": "execute_result"
    }
   ],
   "source": [
    "input_shape = (100, 100,1)\n",
    "left_input = Input(input_shape, name = 'left')\n",
    "right_input = Input(input_shape, name = 'right')\n",
    "\n",
    "convnet = Sequential()\n",
    "convnet.add(Conv2D(32, kernel_size = (3,3)))\n",
    "convnet.add(Activation('relu'))\n",
    "convnet.add(MaxPooling2D(pool_size = (2,2)))\n",
    "\n",
    "\n",
    "convnet.add(Flatten())\n",
    "convnet.add(Dense(50,activation=\"relu\"))\n",
    "\n",
    "encoded_l = convnet(left_input)\n",
    "encoded_r = convnet(right_input)\n",
    "\n",
    "L1_layer = Lambda(lambda tensors:K.abs(tensors[0] - tensors[1]))\n",
    "\n",
    "L1_distance = L1_layer([encoded_l, encoded_r])\n",
    "prediction = Dense(1,activation='sigmoid')(L1_distance)\n",
    "siamese_net = Model(inputs=[left_input,right_input],outputs=prediction)\n",
    "\n",
    "optimizer = Adam(lr = 0.005)\n",
    "siamese_net.compile(loss=\"binary_crossentropy\",optimizer=optimizer)\n",
    "\n",
    "siamese_net.count_params()"
   ]
  },
  {
   "cell_type": "code",
   "execution_count": 6,
   "metadata": {
    "collapsed": true,
    "scrolled": true
   },
   "outputs": [],
   "source": [
    "def getBatch50Percent(data, n):\n",
    "    batch = np.zeros(shape = (n,2, 100, 100, 1))\n",
    "    targets = np.zeros(shape = (n, 1))\n",
    "    for i in range(0, n):\n",
    "        same = np.random.randint(0,2)\n",
    "        if(same):\n",
    "            randExpression = np.random.choice(len(data[0]), 1)\n",
    "            randPerson1 = np.random.choice(len(data), 1)\n",
    "            randPerson2 = np.random.choice(len(data), 1)\n",
    "            batch[i][0] = data[randPerson1,randExpression].reshape(100, 100, 1)\n",
    "            batch[i][1] = data[randPerson1, randExpression].reshape(100, 100, 1)\n",
    "            targets[i] = [1]\n",
    "        else:\n",
    "            exs = np.arange(0, len(data[0]))\n",
    "            randExpression1 = np.random.choice(exs, 1)\n",
    "            exs = np.delete(exs, randExpression1)\n",
    "            randExpression2 = np.random.choice(exs, 1)\n",
    "            randPerson1 = np.random.choice(len(data), 1)\n",
    "            randPerson2 = np.random.choice(len(data), 1)\n",
    "            batch[i][0] = data[randPerson1,randExpression1].reshape(100, 100, 1)\n",
    "            batch[i][1] = data[randPerson1,randExpression2].reshape(100, 100, 1)\n",
    "            targets[i] = [0]\n",
    "    return (batch, targets)"
   ]
  },
  {
   "cell_type": "code",
   "execution_count": 7,
   "metadata": {
    "scrolled": true
   },
   "outputs": [
    {
     "name": "stdout",
     "output_type": "stream",
     "text": [
      "Epoch1-----AVGLoss: 0.657620\n",
      "Epoch2-----AVGLoss: 0.346067\n",
      "Epoch3-----AVGLoss: 0.206604\n",
      "Epoch4-----AVGLoss: 0.549245\n",
      "Epoch5-----AVGLoss: 0.273752\n",
      "Epoch6-----AVGLoss: 0.341077\n",
      "Epoch7-----AVGLoss: 0.203965\n",
      "Epoch8-----AVGLoss: 0.338829\n",
      "Epoch9-----AVGLoss: 0.270154\n",
      "Epoch10-----AVGLoss: 0.403868\n",
      "Epoch11-----AVGLoss: 0.335393\n",
      "Epoch12-----AVGLoss: 0.401064\n",
      "Epoch13-----AVGLoss: 0.333029\n",
      "Epoch14-----AVGLoss: 0.199103\n",
      "Epoch15-----AVGLoss: 0.330681\n",
      "Epoch16-----AVGLoss: 0.329519\n",
      "Epoch17-----AVGLoss: 0.328352\n",
      "Epoch18-----AVGLoss: 0.261746\n",
      "Epoch19-----AVGLoss: 0.391233\n",
      "Epoch20-----AVGLoss: 0.389825\n",
      "Epoch21-----AVGLoss: 0.323667\n",
      "Epoch22-----AVGLoss: 0.451476\n",
      "Epoch23-----AVGLoss: 0.257021\n",
      "Epoch24-----AVGLoss: 0.576167\n",
      "Epoch25-----AVGLoss: 0.318869\n",
      "Epoch26-----AVGLoss: 0.381190\n",
      "Epoch27-----AVGLoss: 0.253156\n",
      "Epoch28-----AVGLoss: 0.378315\n",
      "Epoch29-----AVGLoss: 0.251260\n",
      "Epoch30-----AVGLoss: 0.187750\n",
      "Epoch31-----AVGLoss: 0.249440\n",
      "Epoch32-----AVGLoss: 0.124282\n",
      "Epoch33-----AVGLoss: 0.123866\n",
      "Epoch34-----AVGLoss: 0.246941\n",
      "Epoch35-----AVGLoss: 0.369234\n",
      "Epoch36-----AVGLoss: 0.368022\n",
      "Epoch37-----AVGLoss: 0.366780\n",
      "Epoch38-----AVGLoss: 0.365514\n",
      "Epoch39-----AVGLoss: 0.364226\n",
      "Epoch40-----AVGLoss: 0.241947\n",
      "Epoch41-----AVGLoss: 0.241093\n",
      "Epoch42-----AVGLoss: 0.360382\n",
      "Epoch43-----AVGLoss: 0.359105\n",
      "Epoch44-----AVGLoss: 0.119270\n",
      "Epoch45-----AVGLoss: 0.297156\n",
      "Epoch46-----AVGLoss: 0.236908\n",
      "Epoch47-----AVGLoss: 0.118052\n",
      "Epoch48-----AVGLoss: 0.411847\n",
      "Epoch49-----AVGLoss: 0.117273\n",
      "Epoch50-----AVGLoss: 0.467583\n",
      "Epoch51-----AVGLoss: 0.407735\n",
      "Epoch52-----AVGLoss: 0.232164\n",
      "Epoch53-----AVGLoss: 0.462708\n",
      "Epoch54-----AVGLoss: 0.230507\n",
      "Epoch55-----AVGLoss: 0.287099\n",
      "Epoch56-----AVGLoss: 0.343283\n",
      "Epoch57-----AVGLoss: 0.171017\n",
      "Epoch58-----AVGLoss: 0.340836\n",
      "Epoch59-----AVGLoss: 0.226413\n",
      "Epoch60-----AVGLoss: 0.282025\n",
      "Epoch61-----AVGLoss: 0.449658\n",
      "Epoch62-----AVGLoss: 0.280003\n",
      "Epoch63-----AVGLoss: 0.278979\n",
      "Epoch64-----AVGLoss: 0.166777\n",
      "Epoch65-----AVGLoss: 0.387782\n",
      "Epoch66-----AVGLoss: 0.331180\n",
      "Epoch67-----AVGLoss: 0.329965\n",
      "Epoch68-----AVGLoss: 0.219161\n",
      "Epoch69-----AVGLoss: 0.272958\n",
      "Epoch70-----AVGLoss: 0.217578\n",
      "Epoch71-----AVGLoss: 0.271010\n",
      "Epoch72-----AVGLoss: 0.108021\n",
      "Epoch73-----AVGLoss: 0.269151\n",
      "Epoch74-----AVGLoss: 0.321898\n",
      "Epoch75-----AVGLoss: 0.427727\n",
      "Epoch76-----AVGLoss: 0.426184\n",
      "Epoch77-----AVGLoss: 0.265362\n",
      "Epoch78-----AVGLoss: 0.211497\n",
      "Epoch79-----AVGLoss: 0.316090\n",
      "Epoch80-----AVGLoss: 0.314926\n",
      "Epoch81-----AVGLoss: 0.261463\n",
      "Epoch82-----AVGLoss: 0.260499\n",
      "Epoch83-----AVGLoss: 0.259545\n",
      "Epoch84-----AVGLoss: 0.206881\n",
      "Epoch85-----AVGLoss: 0.257682\n",
      "Epoch86-----AVGLoss: 0.205415\n",
      "Epoch87-----AVGLoss: 0.204703\n",
      "Epoch88-----AVGLoss: 0.153005\n",
      "Epoch89-----AVGLoss: 0.254171\n",
      "Epoch90-----AVGLoss: 0.253334\n",
      "Epoch91-----AVGLoss: 0.353494\n",
      "Epoch92-----AVGLoss: 0.050325\n",
      "Epoch93-----AVGLoss: 0.100330\n",
      "Epoch94-----AVGLoss: 0.150042\n",
      "Epoch95-----AVGLoss: 0.199469\n",
      "Epoch96-----AVGLoss: 0.099444\n",
      "Epoch97-----AVGLoss: 0.247918\n",
      "Epoch98-----AVGLoss: 0.395542\n",
      "Epoch99-----AVGLoss: 0.246450\n",
      "Epoch100-----AVGLoss: 0.147409\n",
      "Epoch101-----AVGLoss: 0.342913\n",
      "Epoch102-----AVGLoss: 0.048831\n",
      "Epoch103-----AVGLoss: 0.292122\n",
      "Epoch104-----AVGLoss: 0.194151\n",
      "Epoch105-----AVGLoss: 0.241952\n",
      "Epoch106-----AVGLoss: 0.192966\n",
      "Epoch107-----AVGLoss: 0.288566\n",
      "Epoch108-----AVGLoss: 0.191772\n",
      "Epoch109-----AVGLoss: 0.238968\n",
      "Epoch110-----AVGLoss: 0.285860\n",
      "Epoch111-----AVGLoss: 0.189957\n",
      "Epoch112-----AVGLoss: 0.284026\n",
      "Epoch113-----AVGLoss: 0.283095\n",
      "Epoch114-----AVGLoss: 0.094049\n",
      "Epoch115-----AVGLoss: 0.187502\n",
      "Epoch116-----AVGLoss: 0.140186\n",
      "Epoch117-----AVGLoss: 0.139762\n",
      "Epoch118-----AVGLoss: 0.185801\n",
      "Epoch119-----AVGLoss: 0.185258\n",
      "Epoch120-----AVGLoss: 0.184718\n",
      "Epoch121-----AVGLoss: 0.322320\n",
      "Epoch122-----AVGLoss: 0.229520\n",
      "Epoch123-----AVGLoss: 0.411851\n",
      "Epoch124-----AVGLoss: 0.182425\n",
      "Epoch125-----AVGLoss: 0.136363\n",
      "Epoch126-----AVGLoss: 0.135926\n",
      "Epoch127-----AVGLoss: 0.180673\n",
      "Epoch128-----AVGLoss: 0.180119\n",
      "Epoch129-----AVGLoss: 0.224465\n",
      "Epoch130-----AVGLoss: 0.313285\n",
      "Epoch131-----AVGLoss: 0.178442\n",
      "Epoch132-----AVGLoss: 0.266810\n",
      "Epoch133-----AVGLoss: 0.221615\n",
      "Epoch134-----AVGLoss: 0.265065\n",
      "Epoch135-----AVGLoss: 0.220146\n",
      "Epoch136-----AVGLoss: 0.131644\n",
      "Epoch137-----AVGLoss: 0.218697\n",
      "Epoch138-----AVGLoss: 0.217986\n",
      "Epoch139-----AVGLoss: 0.260730\n",
      "Epoch140-----AVGLoss: 0.129930\n",
      "Epoch141-----AVGLoss: 0.086341\n",
      "Epoch142-----AVGLoss: 0.215198\n",
      "Epoch143-----AVGLoss: 0.300351\n",
      "Epoch144-----AVGLoss: 0.256613\n",
      "Epoch145-----AVGLoss: 0.213137\n",
      "Epoch146-----AVGLoss: 0.127459\n",
      "Epoch147-----AVGLoss: 0.211754\n",
      "Epoch148-----AVGLoss: 0.253290\n",
      "Epoch149-----AVGLoss: 0.168305\n",
      "Epoch150-----AVGLoss: 0.209702\n",
      "Epoch151-----AVGLoss: 0.125414\n",
      "Epoch152-----AVGLoss: 0.208369\n",
      "Epoch153-----AVGLoss: 0.166170\n",
      "Epoch154-----AVGLoss: 0.248482\n",
      "Epoch155-----AVGLoss: 0.247688\n",
      "Epoch156-----AVGLoss: 0.288024\n",
      "Epoch157-----AVGLoss: 0.164025\n",
      "Epoch158-----AVGLoss: 0.245218\n",
      "Epoch159-----AVGLoss: 0.081462\n",
      "Epoch160-----AVGLoss: 0.162402\n",
      "Epoch161-----AVGLoss: 0.202363\n",
      "Epoch162-----AVGLoss: 0.121034\n",
      "Epoch163-----AVGLoss: 0.201106\n",
      "Epoch164-----AVGLoss: 0.320778\n",
      "Epoch165-----AVGLoss: 0.159861\n",
      "Epoch166-----AVGLoss: 0.239016\n",
      "Epoch167-----AVGLoss: 0.317635\n",
      "Epoch168-----AVGLoss: 0.276962\n",
      "Epoch169-----AVGLoss: 0.078848\n",
      "Epoch170-----AVGLoss: 0.275036\n",
      "Epoch171-----AVGLoss: 0.195769\n",
      "Epoch172-----AVGLoss: 0.273126\n",
      "Epoch173-----AVGLoss: 0.116636\n",
      "Epoch174-----AVGLoss: 0.154983\n",
      "Epoch175-----AVGLoss: 0.347547\n",
      "Epoch176-----AVGLoss: 0.192391\n",
      "Epoch177-----AVGLoss: 0.230052\n",
      "Epoch178-----AVGLoss: 0.229229\n",
      "Epoch179-----AVGLoss: 0.114202\n",
      "Epoch180-----AVGLoss: 0.151744\n",
      "Epoch181-----AVGLoss: 0.226851\n",
      "Epoch182-----AVGLoss: 0.339115\n",
      "Epoch183-----AVGLoss: 0.150170\n",
      "Epoch184-----AVGLoss: 0.112230\n",
      "Epoch185-----AVGLoss: 0.111851\n",
      "Epoch186-----AVGLoss: 0.222978\n",
      "Epoch187-----AVGLoss: 0.074081\n",
      "Epoch188-----AVGLoss: 0.184627\n",
      "Epoch189-----AVGLoss: 0.257674\n",
      "Epoch190-----AVGLoss: 0.220147\n",
      "Epoch191-----AVGLoss: 0.219420\n",
      "Epoch192-----AVGLoss: 0.218685\n",
      "Epoch193-----AVGLoss: 0.217943\n",
      "Epoch194-----AVGLoss: 0.072398\n",
      "Epoch195-----AVGLoss: 0.108247\n",
      "Epoch196-----AVGLoss: 0.143882\n",
      "Epoch197-----AVGLoss: 0.215165\n",
      "Epoch198-----AVGLoss: 0.107247\n",
      "Epoch199-----AVGLoss: 0.071283\n",
      "Epoch200-----AVGLoss: 0.106622\n"
     ]
    }
   ],
   "source": [
    "def train50Percent(data, network, epochs, batch_size):\n",
    "    track_loss  = defaultdict(list)\n",
    "    for i in range(0, epochs):\n",
    "        mini_batch, targets = getBatch50Percent(data, batch_size)\n",
    "        loss=siamese_net.train_on_batch(\n",
    "        {\n",
    "         'left': mini_batch[:,0],\n",
    "         'right': mini_batch[:,1],\n",
    "        },targets)\n",
    "        track_loss['Epoch%s'%(i)].append(loss)\n",
    "        print('Epoch%s-----AVGLoss: %f' %(i + 1, loss))\n",
    "    return network, track_loss\n",
    "\n",
    "siamese_net, track_loss = train50Percent(data,siamese_net, 200, 10)"
   ]
  },
  {
   "cell_type": "code",
   "execution_count": 8,
   "metadata": {
    "collapsed": true
   },
   "outputs": [],
   "source": [
    "test_data = np.load('test_img_data.npz')['a']"
   ]
  },
  {
   "cell_type": "code",
   "execution_count": 9,
   "metadata": {},
   "outputs": [
    {
     "data": {
      "text/plain": [
       "(1, 7, 100, 100)"
      ]
     },
     "execution_count": 9,
     "metadata": {},
     "output_type": "execute_result"
    }
   ],
   "source": [
    "test_data.shape"
   ]
  },
  {
   "cell_type": "code",
   "execution_count": 10,
   "metadata": {
    "scrolled": true
   },
   "outputs": [
    {
     "data": {
      "image/png": "[encoded data removed]",
      "text/plain": [
       "<matplotlib.figure.Figure at 0x7f9355023c88>"
      ]
     },
     "metadata": {},
     "output_type": "display_data"
    }
   ],
   "source": [
    "def plotEvalSet(test, actual_data):\n",
    "    x = np.arange(0, 2)\n",
    "    confusion = np.zeros(shape = (2,2))\n",
    "    \"\"\"\n",
    "    Confusion Mat:  [True Positive, False Negative]\n",
    "                    [False Positive, True Negative]\n",
    "    \"\"\"\n",
    "    for i in range(len(test[0])):\n",
    "        person1 = test[0][i]\n",
    "        randExpression = np.random.randint(len(actual_data[0]))\n",
    "        person2 = actual_data[np.random.randint(len(actual_data)),\n",
    "                              randExpression]\n",
    "        same = False\n",
    "        if(i == randExpression):\n",
    "            same = True\n",
    "\n",
    "        out = siamese_net.predict({'left': person1.reshape(1, 100, 100, 1),\n",
    "                                    'right': person2.reshape(1, 100, 100, 1)\n",
    "                                    })\n",
    "        if(same):\n",
    "            if(out > 0.5):\n",
    "                confusion[0,0] +=1\n",
    "            else:\n",
    "                confusion[0,1] += 1\n",
    "            plt.scatter(0, out[0][0])\n",
    "        else:\n",
    "            if(out < 0.5):\n",
    "                confusion[1,1] +=1\n",
    "            else:\n",
    "                confusion[1,0] += 1\n",
    "            plt.scatter(1, out[0][0])\n",
    "    plt.xticks(x, ['Same', 'Different'])\n",
    "    plt.show()\n",
    "    return confusion\n",
    "\n",
    "confusion_mat = plotEvalSet(test_data, data)"
   ]
  },
  {
   "cell_type": "code",
   "execution_count": 11,
   "metadata": {},
   "outputs": [
    {
     "name": "stdout",
     "output_type": "stream",
     "text": [
      "[[0. 1.]\n",
      " [0. 6.]]\n"
     ]
    }
   ],
   "source": [
    "print(confusion_mat)"
   ]
  },
  {
   "cell_type": "code",
   "execution_count": 12,
   "metadata": {
    "collapsed": true
   },
   "outputs": [],
   "source": [
    "siamese_net.save_weights('siamese_conv_trained.h5')"
   ]
  }
 ],
 "metadata": {
  "kernelspec": {
   "display_name": "Python [conda env:anaconda3]",
   "language": "python",
   "name": "conda-env-anaconda3-py"
  },
  "language_info": {
   "codemirror_mode": {
    "name": "ipython",
    "version": 3
   },
   "file_extension": ".py",
   "mimetype": "text/x-python",
   "name": "python",
   "nbconvert_exporter": "python",
   "pygments_lexer": "ipython3",
   "version": "3.6.2"
  }
 },
 "nbformat": 4,
 "nbformat_minor": 2
}
